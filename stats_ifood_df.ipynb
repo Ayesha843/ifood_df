{
 "cells": [
  {
   "cell_type": "code",
   "execution_count": 1,
   "id": "7b298b64",
   "metadata": {},
   "outputs": [],
   "source": [
    "\n",
    "import numpy as np\n",
    "import pandas as pd\n",
    "import numpy as np\n",
    "import seaborn as sns\n",
    "import matplotlib.pyplot as plt\n",
    "import scipy as sp"
   ]
  },
  {
   "cell_type": "code",
   "execution_count": 2,
   "id": "0ce4fd5e",
   "metadata": {},
   "outputs": [],
   "source": [
    "df=pd.read_csv('D:\\\\dataset\\\\ifood_df.csv')"
   ]
  },
  {
   "cell_type": "code",
   "execution_count": 3,
   "id": "129e46c4",
   "metadata": {
    "scrolled": true
   },
   "outputs": [
    {
     "data": {
      "text/html": [
       "<div>\n",
       "<style scoped>\n",
       "    .dataframe tbody tr th:only-of-type {\n",
       "        vertical-align: middle;\n",
       "    }\n",
       "\n",
       "    .dataframe tbody tr th {\n",
       "        vertical-align: top;\n",
       "    }\n",
       "\n",
       "    .dataframe thead th {\n",
       "        text-align: right;\n",
       "    }\n",
       "</style>\n",
       "<table border=\"1\" class=\"dataframe\">\n",
       "  <thead>\n",
       "    <tr style=\"text-align: right;\">\n",
       "      <th></th>\n",
       "      <th>Income</th>\n",
       "      <th>Kidhome</th>\n",
       "      <th>Teenhome</th>\n",
       "      <th>Recency</th>\n",
       "      <th>MntWines</th>\n",
       "      <th>MntFruits</th>\n",
       "      <th>MntMeatProducts</th>\n",
       "      <th>MntFishProducts</th>\n",
       "      <th>MntSweetProducts</th>\n",
       "      <th>MntGoldProds</th>\n",
       "      <th>...</th>\n",
       "      <th>marital_Together</th>\n",
       "      <th>marital_Widow</th>\n",
       "      <th>education_2n Cycle</th>\n",
       "      <th>education_Basic</th>\n",
       "      <th>education_Graduation</th>\n",
       "      <th>education_Master</th>\n",
       "      <th>education_PhD</th>\n",
       "      <th>MntTotal</th>\n",
       "      <th>MntRegularProds</th>\n",
       "      <th>AcceptedCmpOverall</th>\n",
       "    </tr>\n",
       "  </thead>\n",
       "  <tbody>\n",
       "    <tr>\n",
       "      <th>0</th>\n",
       "      <td>58138.0</td>\n",
       "      <td>0</td>\n",
       "      <td>0</td>\n",
       "      <td>58</td>\n",
       "      <td>635</td>\n",
       "      <td>88</td>\n",
       "      <td>546</td>\n",
       "      <td>172</td>\n",
       "      <td>88</td>\n",
       "      <td>88</td>\n",
       "      <td>...</td>\n",
       "      <td>0</td>\n",
       "      <td>0</td>\n",
       "      <td>0</td>\n",
       "      <td>0</td>\n",
       "      <td>1</td>\n",
       "      <td>0</td>\n",
       "      <td>0</td>\n",
       "      <td>1529</td>\n",
       "      <td>1441</td>\n",
       "      <td>0</td>\n",
       "    </tr>\n",
       "    <tr>\n",
       "      <th>1</th>\n",
       "      <td>46344.0</td>\n",
       "      <td>1</td>\n",
       "      <td>1</td>\n",
       "      <td>38</td>\n",
       "      <td>11</td>\n",
       "      <td>1</td>\n",
       "      <td>6</td>\n",
       "      <td>2</td>\n",
       "      <td>1</td>\n",
       "      <td>6</td>\n",
       "      <td>...</td>\n",
       "      <td>0</td>\n",
       "      <td>0</td>\n",
       "      <td>0</td>\n",
       "      <td>0</td>\n",
       "      <td>1</td>\n",
       "      <td>0</td>\n",
       "      <td>0</td>\n",
       "      <td>21</td>\n",
       "      <td>15</td>\n",
       "      <td>0</td>\n",
       "    </tr>\n",
       "    <tr>\n",
       "      <th>2</th>\n",
       "      <td>71613.0</td>\n",
       "      <td>0</td>\n",
       "      <td>0</td>\n",
       "      <td>26</td>\n",
       "      <td>426</td>\n",
       "      <td>49</td>\n",
       "      <td>127</td>\n",
       "      <td>111</td>\n",
       "      <td>21</td>\n",
       "      <td>42</td>\n",
       "      <td>...</td>\n",
       "      <td>1</td>\n",
       "      <td>0</td>\n",
       "      <td>0</td>\n",
       "      <td>0</td>\n",
       "      <td>1</td>\n",
       "      <td>0</td>\n",
       "      <td>0</td>\n",
       "      <td>734</td>\n",
       "      <td>692</td>\n",
       "      <td>0</td>\n",
       "    </tr>\n",
       "    <tr>\n",
       "      <th>3</th>\n",
       "      <td>26646.0</td>\n",
       "      <td>1</td>\n",
       "      <td>0</td>\n",
       "      <td>26</td>\n",
       "      <td>11</td>\n",
       "      <td>4</td>\n",
       "      <td>20</td>\n",
       "      <td>10</td>\n",
       "      <td>3</td>\n",
       "      <td>5</td>\n",
       "      <td>...</td>\n",
       "      <td>1</td>\n",
       "      <td>0</td>\n",
       "      <td>0</td>\n",
       "      <td>0</td>\n",
       "      <td>1</td>\n",
       "      <td>0</td>\n",
       "      <td>0</td>\n",
       "      <td>48</td>\n",
       "      <td>43</td>\n",
       "      <td>0</td>\n",
       "    </tr>\n",
       "    <tr>\n",
       "      <th>4</th>\n",
       "      <td>58293.0</td>\n",
       "      <td>1</td>\n",
       "      <td>0</td>\n",
       "      <td>94</td>\n",
       "      <td>173</td>\n",
       "      <td>43</td>\n",
       "      <td>118</td>\n",
       "      <td>46</td>\n",
       "      <td>27</td>\n",
       "      <td>15</td>\n",
       "      <td>...</td>\n",
       "      <td>0</td>\n",
       "      <td>0</td>\n",
       "      <td>0</td>\n",
       "      <td>0</td>\n",
       "      <td>0</td>\n",
       "      <td>0</td>\n",
       "      <td>1</td>\n",
       "      <td>407</td>\n",
       "      <td>392</td>\n",
       "      <td>0</td>\n",
       "    </tr>\n",
       "    <tr>\n",
       "      <th>...</th>\n",
       "      <td>...</td>\n",
       "      <td>...</td>\n",
       "      <td>...</td>\n",
       "      <td>...</td>\n",
       "      <td>...</td>\n",
       "      <td>...</td>\n",
       "      <td>...</td>\n",
       "      <td>...</td>\n",
       "      <td>...</td>\n",
       "      <td>...</td>\n",
       "      <td>...</td>\n",
       "      <td>...</td>\n",
       "      <td>...</td>\n",
       "      <td>...</td>\n",
       "      <td>...</td>\n",
       "      <td>...</td>\n",
       "      <td>...</td>\n",
       "      <td>...</td>\n",
       "      <td>...</td>\n",
       "      <td>...</td>\n",
       "      <td>...</td>\n",
       "    </tr>\n",
       "    <tr>\n",
       "      <th>2200</th>\n",
       "      <td>61223.0</td>\n",
       "      <td>0</td>\n",
       "      <td>1</td>\n",
       "      <td>46</td>\n",
       "      <td>709</td>\n",
       "      <td>43</td>\n",
       "      <td>182</td>\n",
       "      <td>42</td>\n",
       "      <td>118</td>\n",
       "      <td>247</td>\n",
       "      <td>...</td>\n",
       "      <td>0</td>\n",
       "      <td>0</td>\n",
       "      <td>0</td>\n",
       "      <td>0</td>\n",
       "      <td>1</td>\n",
       "      <td>0</td>\n",
       "      <td>0</td>\n",
       "      <td>1094</td>\n",
       "      <td>847</td>\n",
       "      <td>0</td>\n",
       "    </tr>\n",
       "    <tr>\n",
       "      <th>2201</th>\n",
       "      <td>64014.0</td>\n",
       "      <td>2</td>\n",
       "      <td>1</td>\n",
       "      <td>56</td>\n",
       "      <td>406</td>\n",
       "      <td>0</td>\n",
       "      <td>30</td>\n",
       "      <td>0</td>\n",
       "      <td>0</td>\n",
       "      <td>8</td>\n",
       "      <td>...</td>\n",
       "      <td>1</td>\n",
       "      <td>0</td>\n",
       "      <td>0</td>\n",
       "      <td>0</td>\n",
       "      <td>0</td>\n",
       "      <td>0</td>\n",
       "      <td>1</td>\n",
       "      <td>436</td>\n",
       "      <td>428</td>\n",
       "      <td>1</td>\n",
       "    </tr>\n",
       "    <tr>\n",
       "      <th>2202</th>\n",
       "      <td>56981.0</td>\n",
       "      <td>0</td>\n",
       "      <td>0</td>\n",
       "      <td>91</td>\n",
       "      <td>908</td>\n",
       "      <td>48</td>\n",
       "      <td>217</td>\n",
       "      <td>32</td>\n",
       "      <td>12</td>\n",
       "      <td>24</td>\n",
       "      <td>...</td>\n",
       "      <td>0</td>\n",
       "      <td>0</td>\n",
       "      <td>0</td>\n",
       "      <td>0</td>\n",
       "      <td>1</td>\n",
       "      <td>0</td>\n",
       "      <td>0</td>\n",
       "      <td>1217</td>\n",
       "      <td>1193</td>\n",
       "      <td>1</td>\n",
       "    </tr>\n",
       "    <tr>\n",
       "      <th>2203</th>\n",
       "      <td>69245.0</td>\n",
       "      <td>0</td>\n",
       "      <td>1</td>\n",
       "      <td>8</td>\n",
       "      <td>428</td>\n",
       "      <td>30</td>\n",
       "      <td>214</td>\n",
       "      <td>80</td>\n",
       "      <td>30</td>\n",
       "      <td>61</td>\n",
       "      <td>...</td>\n",
       "      <td>1</td>\n",
       "      <td>0</td>\n",
       "      <td>0</td>\n",
       "      <td>0</td>\n",
       "      <td>0</td>\n",
       "      <td>1</td>\n",
       "      <td>0</td>\n",
       "      <td>782</td>\n",
       "      <td>721</td>\n",
       "      <td>0</td>\n",
       "    </tr>\n",
       "    <tr>\n",
       "      <th>2204</th>\n",
       "      <td>52869.0</td>\n",
       "      <td>1</td>\n",
       "      <td>1</td>\n",
       "      <td>40</td>\n",
       "      <td>84</td>\n",
       "      <td>3</td>\n",
       "      <td>61</td>\n",
       "      <td>2</td>\n",
       "      <td>1</td>\n",
       "      <td>21</td>\n",
       "      <td>...</td>\n",
       "      <td>0</td>\n",
       "      <td>0</td>\n",
       "      <td>0</td>\n",
       "      <td>0</td>\n",
       "      <td>0</td>\n",
       "      <td>0</td>\n",
       "      <td>1</td>\n",
       "      <td>151</td>\n",
       "      <td>130</td>\n",
       "      <td>0</td>\n",
       "    </tr>\n",
       "  </tbody>\n",
       "</table>\n",
       "<p>2205 rows × 39 columns</p>\n",
       "</div>"
      ],
      "text/plain": [
       "       Income  Kidhome  Teenhome  Recency  MntWines  MntFruits  \\\n",
       "0     58138.0        0         0       58       635         88   \n",
       "1     46344.0        1         1       38        11          1   \n",
       "2     71613.0        0         0       26       426         49   \n",
       "3     26646.0        1         0       26        11          4   \n",
       "4     58293.0        1         0       94       173         43   \n",
       "...       ...      ...       ...      ...       ...        ...   \n",
       "2200  61223.0        0         1       46       709         43   \n",
       "2201  64014.0        2         1       56       406          0   \n",
       "2202  56981.0        0         0       91       908         48   \n",
       "2203  69245.0        0         1        8       428         30   \n",
       "2204  52869.0        1         1       40        84          3   \n",
       "\n",
       "      MntMeatProducts  MntFishProducts  MntSweetProducts  MntGoldProds  ...  \\\n",
       "0                 546              172                88            88  ...   \n",
       "1                   6                2                 1             6  ...   \n",
       "2                 127              111                21            42  ...   \n",
       "3                  20               10                 3             5  ...   \n",
       "4                 118               46                27            15  ...   \n",
       "...               ...              ...               ...           ...  ...   \n",
       "2200              182               42               118           247  ...   \n",
       "2201               30                0                 0             8  ...   \n",
       "2202              217               32                12            24  ...   \n",
       "2203              214               80                30            61  ...   \n",
       "2204               61                2                 1            21  ...   \n",
       "\n",
       "      marital_Together  marital_Widow  education_2n Cycle  education_Basic  \\\n",
       "0                    0              0                   0                0   \n",
       "1                    0              0                   0                0   \n",
       "2                    1              0                   0                0   \n",
       "3                    1              0                   0                0   \n",
       "4                    0              0                   0                0   \n",
       "...                ...            ...                 ...              ...   \n",
       "2200                 0              0                   0                0   \n",
       "2201                 1              0                   0                0   \n",
       "2202                 0              0                   0                0   \n",
       "2203                 1              0                   0                0   \n",
       "2204                 0              0                   0                0   \n",
       "\n",
       "      education_Graduation  education_Master  education_PhD  MntTotal  \\\n",
       "0                        1                 0              0      1529   \n",
       "1                        1                 0              0        21   \n",
       "2                        1                 0              0       734   \n",
       "3                        1                 0              0        48   \n",
       "4                        0                 0              1       407   \n",
       "...                    ...               ...            ...       ...   \n",
       "2200                     1                 0              0      1094   \n",
       "2201                     0                 0              1       436   \n",
       "2202                     1                 0              0      1217   \n",
       "2203                     0                 1              0       782   \n",
       "2204                     0                 0              1       151   \n",
       "\n",
       "      MntRegularProds  AcceptedCmpOverall  \n",
       "0                1441                   0  \n",
       "1                  15                   0  \n",
       "2                 692                   0  \n",
       "3                  43                   0  \n",
       "4                 392                   0  \n",
       "...               ...                 ...  \n",
       "2200              847                   0  \n",
       "2201              428                   1  \n",
       "2202             1193                   1  \n",
       "2203              721                   0  \n",
       "2204              130                   0  \n",
       "\n",
       "[2205 rows x 39 columns]"
      ]
     },
     "execution_count": 3,
     "metadata": {},
     "output_type": "execute_result"
    }
   ],
   "source": [
    "df"
   ]
  },
  {
   "cell_type": "code",
   "execution_count": 6,
   "id": "8ee72878",
   "metadata": {},
   "outputs": [
    {
     "name": "stdout",
     "output_type": "stream",
     "text": [
      "<class 'pandas.core.frame.DataFrame'>\n",
      "RangeIndex: 2205 entries, 0 to 2204\n",
      "Data columns (total 39 columns):\n",
      " #   Column                Non-Null Count  Dtype  \n",
      "---  ------                --------------  -----  \n",
      " 0   Income                2205 non-null   float64\n",
      " 1   Kidhome               2205 non-null   int64  \n",
      " 2   Teenhome              2205 non-null   int64  \n",
      " 3   Recency               2205 non-null   int64  \n",
      " 4   MntWines              2205 non-null   int64  \n",
      " 5   MntFruits             2205 non-null   int64  \n",
      " 6   MntMeatProducts       2205 non-null   int64  \n",
      " 7   MntFishProducts       2205 non-null   int64  \n",
      " 8   MntSweetProducts      2205 non-null   int64  \n",
      " 9   MntGoldProds          2205 non-null   int64  \n",
      " 10  NumDealsPurchases     2205 non-null   int64  \n",
      " 11  NumWebPurchases       2205 non-null   int64  \n",
      " 12  NumCatalogPurchases   2205 non-null   int64  \n",
      " 13  NumStorePurchases     2205 non-null   int64  \n",
      " 14  NumWebVisitsMonth     2205 non-null   int64  \n",
      " 15  AcceptedCmp3          2205 non-null   int64  \n",
      " 16  AcceptedCmp4          2205 non-null   int64  \n",
      " 17  AcceptedCmp5          2205 non-null   int64  \n",
      " 18  AcceptedCmp1          2205 non-null   int64  \n",
      " 19  AcceptedCmp2          2205 non-null   int64  \n",
      " 20  Complain              2205 non-null   int64  \n",
      " 21  Z_CostContact         2205 non-null   int64  \n",
      " 22  Z_Revenue             2205 non-null   int64  \n",
      " 23  Response              2205 non-null   int64  \n",
      " 24  Age                   2205 non-null   int64  \n",
      " 25  Customer_Days         2205 non-null   int64  \n",
      " 26  marital_Divorced      2205 non-null   int64  \n",
      " 27  marital_Married       2205 non-null   int64  \n",
      " 28  marital_Single        2205 non-null   int64  \n",
      " 29  marital_Together      2205 non-null   int64  \n",
      " 30  marital_Widow         2205 non-null   int64  \n",
      " 31  education_2n Cycle    2205 non-null   int64  \n",
      " 32  education_Basic       2205 non-null   int64  \n",
      " 33  education_Graduation  2205 non-null   int64  \n",
      " 34  education_Master      2205 non-null   int64  \n",
      " 35  education_PhD         2205 non-null   int64  \n",
      " 36  MntTotal              2205 non-null   int64  \n",
      " 37  MntRegularProds       2205 non-null   int64  \n",
      " 38  AcceptedCmpOverall    2205 non-null   int64  \n",
      "dtypes: float64(1), int64(38)\n",
      "memory usage: 672.0 KB\n"
     ]
    }
   ],
   "source": [
    "df.info()"
   ]
  },
  {
   "cell_type": "code",
   "execution_count": 8,
   "id": "0619dfe6",
   "metadata": {},
   "outputs": [
    {
     "data": {
      "text/plain": [
       "Income                  0\n",
       "Kidhome                 0\n",
       "Teenhome                0\n",
       "Recency                 0\n",
       "MntWines                0\n",
       "MntFruits               0\n",
       "MntMeatProducts         0\n",
       "MntFishProducts         0\n",
       "MntSweetProducts        0\n",
       "MntGoldProds            0\n",
       "NumDealsPurchases       0\n",
       "NumWebPurchases         0\n",
       "NumCatalogPurchases     0\n",
       "NumStorePurchases       0\n",
       "NumWebVisitsMonth       0\n",
       "AcceptedCmp3            0\n",
       "AcceptedCmp4            0\n",
       "AcceptedCmp5            0\n",
       "AcceptedCmp1            0\n",
       "AcceptedCmp2            0\n",
       "Complain                0\n",
       "Z_CostContact           0\n",
       "Z_Revenue               0\n",
       "Response                0\n",
       "Age                     0\n",
       "Customer_Days           0\n",
       "marital_Divorced        0\n",
       "marital_Married         0\n",
       "marital_Single          0\n",
       "marital_Together        0\n",
       "marital_Widow           0\n",
       "education_2n Cycle      0\n",
       "education_Basic         0\n",
       "education_Graduation    0\n",
       "education_Master        0\n",
       "education_PhD           0\n",
       "MntTotal                0\n",
       "MntRegularProds         0\n",
       "AcceptedCmpOverall      0\n",
       "dtype: int64"
      ]
     },
     "execution_count": 8,
     "metadata": {},
     "output_type": "execute_result"
    }
   ],
   "source": [
    "df.isna().sum()"
   ]
  },
  {
   "cell_type": "code",
   "execution_count": 4,
   "id": "4127b0f9",
   "metadata": {},
   "outputs": [
    {
     "data": {
      "text/plain": [
       "Index(['Income', 'Kidhome', 'Teenhome', 'Recency', 'MntWines', 'MntFruits',\n",
       "       'MntMeatProducts', 'MntFishProducts', 'MntSweetProducts',\n",
       "       'MntGoldProds', 'NumDealsPurchases', 'NumWebPurchases',\n",
       "       'NumCatalogPurchases', 'NumStorePurchases', 'NumWebVisitsMonth',\n",
       "       'AcceptedCmp3', 'AcceptedCmp4', 'AcceptedCmp5', 'AcceptedCmp1',\n",
       "       'AcceptedCmp2', 'Complain', 'Z_CostContact', 'Z_Revenue', 'Response',\n",
       "       'Age', 'Customer_Days', 'marital_Divorced', 'marital_Married',\n",
       "       'marital_Single', 'marital_Together', 'marital_Widow',\n",
       "       'education_2n Cycle', 'education_Basic', 'education_Graduation',\n",
       "       'education_Master', 'education_PhD', 'MntTotal', 'MntRegularProds',\n",
       "       'AcceptedCmpOverall'],\n",
       "      dtype='object')"
      ]
     },
     "execution_count": 4,
     "metadata": {},
     "output_type": "execute_result"
    }
   ],
   "source": [
    "df.columns"
   ]
  },
  {
   "cell_type": "markdown",
   "id": "a6acd27b",
   "metadata": {},
   "source": [
    "AcceptedCmp1 : customer accepted offer in the 1st campaign\n",
    "\n",
    "AcceptedCmp2 : customer accepted offer in the 2nd campaign\n",
    "\n",
    "AcceptedCmp3 : customer accepted offer in the 3rd campaign\n",
    "\n",
    "AcceptedCmp4 : customer accepted offer in the 4th campaign\n",
    "\n",
    "AcceptedCmp5 : customer accepted offer in the 5th campaign\n",
    "\n",
    "Response(target) : customer accepted offer in the last campaign\n",
    "\n",
    "Complain : customer complained in the last 2 yrs\n",
    "\n",
    "Education : customer level of education\n",
    "\n",
    "Martial : customers martial status\n",
    "\n",
    "Income : customers yrly household income\n",
    "\n",
    "Mnt : amount spent in last 2 yrs\n",
    "\n",
    "NumDealsPurchases :no.of purchases made with discount\n",
    "\n",
    "NumWebPurchases : no.of purchases made through company's web site\n",
    "\n",
    "NumCatalogPurchases : no.of purchases made using catalog\n",
    "\n",
    "NumStorePurchases : no.of purchases made directly in stores\n",
    "\n",
    "NumWebVisitsMonth : no.of visits to company's web site in the last month\n",
    "\n",
    "Recency : no.of days since last purchase"
   ]
  },
  {
   "cell_type": "code",
   "execution_count": 10,
   "id": "89a67583",
   "metadata": {},
   "outputs": [
    {
     "data": {
      "text/plain": [
       "<AxesSubplot:xlabel='Income'>"
      ]
     },
     "execution_count": 10,
     "metadata": {},
     "output_type": "execute_result"
    },
    {
     "data": {
      "image/png": "[encoded data removed]",
      "text/plain": [
       "<Figure size 432x288 with 1 Axes>"
      ]
     },
     "metadata": {
      "needs_background": "light"
     },
     "output_type": "display_data"
    }
   ],
   "source": [
    "# Create a box plot of the \"Income\" column using seaborn\n",
    "sns.boxplot(x=df[\"Income\"])"
   ]
  },
  {
   "cell_type": "code",
   "execution_count": 11,
   "id": "3b2ff377",
   "metadata": {},
   "outputs": [],
   "source": [
    "# Calculate the third and first quartiles of the \"Income\" column using numpy\n",
    "q3, q1 = np.percentile(df['Income'], [75, 25])"
   ]
  },
  {
   "cell_type": "code",
   "execution_count": 12,
   "id": "b3c71c7c",
   "metadata": {},
   "outputs": [
    {
     "data": {
      "text/plain": [
       "68281.0"
      ]
     },
     "execution_count": 12,
     "metadata": {},
     "output_type": "execute_result"
    }
   ],
   "source": [
    "q3"
   ]
  },
  {
   "cell_type": "code",
   "execution_count": 13,
   "id": "2f79f0b5",
   "metadata": {},
   "outputs": [
    {
     "data": {
      "text/plain": [
       "35196.0"
      ]
     },
     "execution_count": 13,
     "metadata": {},
     "output_type": "execute_result"
    }
   ],
   "source": [
    "q1"
   ]
  },
  {
   "cell_type": "code",
   "execution_count": 14,
   "id": "6f9ae844",
   "metadata": {},
   "outputs": [
    {
     "data": {
      "text/plain": [
       "33085.0"
      ]
     },
     "execution_count": 14,
     "metadata": {},
     "output_type": "execute_result"
    }
   ],
   "source": [
    "# Calculate the interquartile range (IQR) of the \"Income\" column\n",
    "iqr = q3 - q1\n",
    "iqr"
   ]
  },
  {
   "cell_type": "code",
   "execution_count": 16,
   "id": "70dd2d6f",
   "metadata": {},
   "outputs": [],
   "source": [
    "# Create a numpy array of the values in the \"Income\" column of the pandas DataFrame\n",
    "Income_array = df['Income'].values"
   ]
  },
  {
   "cell_type": "code",
   "execution_count": 17,
   "id": "a4a984b2",
   "metadata": {},
   "outputs": [
    {
     "data": {
      "text/plain": [
       "array([58138., 46344., 71613., ..., 56981., 69245., 52869.])"
      ]
     },
     "execution_count": 17,
     "metadata": {},
     "output_type": "execute_result"
    }
   ],
   "source": [
    "Income_array "
   ]
  },
  {
   "cell_type": "code",
   "execution_count": 5,
   "id": "e3b0fe3d",
   "metadata": {},
   "outputs": [
    {
     "name": "stdout",
     "output_type": "stream",
     "text": [
      "\n",
      "Descriptive Statistics for 'MntTotal':\n",
      "\n",
      "count    2205.000000\n",
      "mean      562.764626\n",
      "std       575.936911\n",
      "min         4.000000\n",
      "25%        56.000000\n",
      "50%       343.000000\n",
      "75%       964.000000\n",
      "max      2491.000000\n",
      "Name: MntTotal, dtype: float64\n"
     ]
    }
   ],
   "source": [
    "mnt_total_stats = df['MntTotal'].describe()\n",
    "print(\"\\nDescriptive Statistics for 'MntTotal':\\n\")\n",
    "print(mnt_total_stats)"
   ]
  },
  {
   "cell_type": "code",
   "execution_count": 6,
   "id": "4e5eb74d",
   "metadata": {},
   "outputs": [
    {
     "data": {
      "image/png": "[encoded data removed]",
      "text/plain": [
       "<Figure size 720x432 with 1 Axes>"
      ]
     },
     "metadata": {
      "needs_background": "light"
     },
     "output_type": "display_data"
    }
   ],
   "source": [
    "#  Histogram for 'Income'\n",
    "plt.figure(figsize=(10, 6))\n",
    "sns.histplot(df['Income'], bins=30, kde=True, color='skyblue')\n",
    "plt.title('Histogram of Income')\n",
    "plt.xlabel('Income')\n",
    "plt.ylabel('Frequency')\n",
    "plt.show()\n"
   ]
  },
  {
   "cell_type": "code",
   "execution_count": 7,
   "id": "99a7876d",
   "metadata": {},
   "outputs": [
    {
     "data": {
      "image/png": "[encoded data removed]",
      "text/plain": [
       "<Figure size 720x432 with 1 Axes>"
      ]
     },
     "metadata": {
      "needs_background": "light"
     },
     "output_type": "display_data"
    }
   ],
   "source": [
    "# Example: Boxplot for 'MntTotal'\n",
    "plt.figure(figsize=(10, 6))\n",
    "sns.boxplot(x=df['MntTotal'], color='lightcoral')\n",
    "plt.title('Boxplot of MntTotal')\n",
    "plt.xlabel('MntTotal')\n",
    "plt.show()"
   ]
  },
  {
   "cell_type": "code",
   "execution_count": 8,
   "id": "423c96aa",
   "metadata": {},
   "outputs": [
    {
     "data": {
      "image/png": "[encoded data removed]",
      "text/plain": [
       "<Figure size 576x432 with 1 Axes>"
      ]
     },
     "metadata": {
      "needs_background": "light"
     },
     "output_type": "display_data"
    }
   ],
   "source": [
    "# Example: Bar plot for 'Marital Status'\n",
    "plt.figure(figsize=(8, 6))\n",
    "sns.countplot(x='marital_Together', data=df, palette='viridis')\n",
    "plt.title('Count of Individuals by Marital Status (1=Together, 0=Others)')\n",
    "plt.xlabel('Marital Status')\n",
    "plt.ylabel('Count')\n",
    "plt.show()"
   ]
  },
  {
   "cell_type": "code",
   "execution_count": 19,
   "id": "4f5e8452",
   "metadata": {},
   "outputs": [],
   "source": [
    "\n",
    "# Descriptive statistics for 'Income'\n",
    "income_stats = df['Income'].describe()"
   ]
  },
  {
   "cell_type": "code",
   "execution_count": 20,
   "id": "ede33f8f",
   "metadata": {},
   "outputs": [
    {
     "data": {
      "text/plain": [
       "count      2205.000000\n",
       "mean      51622.094785\n",
       "std       20713.063826\n",
       "min        1730.000000\n",
       "25%       35196.000000\n",
       "50%       51287.000000\n",
       "75%       68281.000000\n",
       "max      113734.000000\n",
       "Name: Income, dtype: float64"
      ]
     },
     "execution_count": 20,
     "metadata": {},
     "output_type": "execute_result"
    }
   ],
   "source": [
    "income_stats "
   ]
  },
  {
   "cell_type": "code",
   "execution_count": 23,
   "id": "cbc934e0",
   "metadata": {},
   "outputs": [
    {
     "data": {
      "text/plain": [
       "Text(0.5, 1.0, 'Histogram of Income')"
      ]
     },
     "execution_count": 23,
     "metadata": {},
     "output_type": "execute_result"
    },
    {
     "data": {
      "image/png": "[encoded data removed]",
      "text/plain": [
       "<Figure size 432x288 with 1 Axes>"
      ]
     },
     "metadata": {
      "needs_background": "light"
     },
     "output_type": "display_data"
    }
   ],
   "source": [
    "\n",
    "sns.histplot(df['Income'], bins=30, kde=True, color='skyblue')\n",
    "plt.title('Histogram of Income')"
   ]
  },
  {
   "cell_type": "code",
   "execution_count": 25,
   "id": "c0eacbe6",
   "metadata": {},
   "outputs": [
    {
     "data": {
      "text/plain": [
       "Text(0.5, 1.0, 'Histogram of MntTotal')"
      ]
     },
     "execution_count": 25,
     "metadata": {},
     "output_type": "execute_result"
    },
    {
     "data": {
      "image/png": "[encoded data removed]",
      "text/plain": [
       "<Figure size 432x288 with 1 Axes>"
      ]
     },
     "metadata": {
      "needs_background": "light"
     },
     "output_type": "display_data"
    }
   ],
   "source": [
    "\n",
    "sns.histplot(df['MntTotal'], bins=30, kde=True, color='green')\n",
    "plt.title('Histogram of MntTotal')\n"
   ]
  },
  {
   "cell_type": "code",
   "execution_count": null,
   "id": "c5c0d1e7",
   "metadata": {},
   "outputs": [],
   "source": []
  }
 ],
 "metadata": {
  "kernelspec": {
   "display_name": "Python 3",
   "language": "python",
   "name": "python3"
  },
  "language_info": {
   "codemirror_mode": {
    "name": "ipython",
    "version": 3
   },
   "file_extension": ".py",
   "mimetype": "text/x-python",
   "name": "python",
   "nbconvert_exporter": "python",
   "pygments_lexer": "ipython3",
   "version": "3.8.8"
  }
 },
 "nbformat": 4,
 "nbformat_minor": 5
}
